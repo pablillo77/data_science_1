{
  "cells": [
    {
      "cell_type": "markdown",
      "metadata": {
        "id": "view-in-github",
        "colab_type": "text"
      },
      "source": [
        "<a href=\"https://colab.research.google.com/github/pablillo77/data_science_1/blob/main/Clase_07_datos_faltantes_desde%20colab.ipynb\" target=\"_parent\"><img src=\"https://colab.research.google.com/assets/colab-badge.svg\" alt=\"Open In Colab\"/></a>"
      ]
    },
    {
      "cell_type": "markdown",
      "metadata": {
        "id": "RVeBPsS_JwZG"
      },
      "source": [
        "# Manipulacion de faltantes"
      ]
    },
    {
      "cell_type": "code",
      "execution_count": null,
      "metadata": {
        "colab": {
          "base_uri": "https://localhost:8080/",
          "height": 206
        },
        "id": "jUr7xOsTlCNQ",
        "outputId": "933a7c30-7b3b-48c4-ad54-819b9e806ce4"
      },
      "outputs": [
        {
          "data": {
            "text/html": [
              "<div>\n",
              "<style scoped>\n",
              "    .dataframe tbody tr th:only-of-type {\n",
              "        vertical-align: middle;\n",
              "    }\n",
              "\n",
              "    .dataframe tbody tr th {\n",
              "        vertical-align: top;\n",
              "    }\n",
              "\n",
              "    .dataframe thead th {\n",
              "        text-align: right;\n",
              "    }\n",
              "</style>\n",
              "<table border=\"1\" class=\"dataframe\">\n",
              "  <thead>\n",
              "    <tr style=\"text-align: right;\">\n",
              "      <th></th>\n",
              "      <th>0</th>\n",
              "      <th>1</th>\n",
              "      <th>2</th>\n",
              "      <th>3</th>\n",
              "      <th>4</th>\n",
              "      <th>5</th>\n",
              "      <th>6</th>\n",
              "      <th>7</th>\n",
              "      <th>8</th>\n",
              "    </tr>\n",
              "  </thead>\n",
              "  <tbody>\n",
              "    <tr>\n",
              "      <th>0</th>\n",
              "      <td>6</td>\n",
              "      <td>148</td>\n",
              "      <td>72</td>\n",
              "      <td>35</td>\n",
              "      <td>0</td>\n",
              "      <td>33.6</td>\n",
              "      <td>0.627</td>\n",
              "      <td>50</td>\n",
              "      <td>1</td>\n",
              "    </tr>\n",
              "    <tr>\n",
              "      <th>1</th>\n",
              "      <td>1</td>\n",
              "      <td>85</td>\n",
              "      <td>66</td>\n",
              "      <td>29</td>\n",
              "      <td>0</td>\n",
              "      <td>26.6</td>\n",
              "      <td>0.351</td>\n",
              "      <td>31</td>\n",
              "      <td>0</td>\n",
              "    </tr>\n",
              "    <tr>\n",
              "      <th>2</th>\n",
              "      <td>8</td>\n",
              "      <td>183</td>\n",
              "      <td>64</td>\n",
              "      <td>0</td>\n",
              "      <td>0</td>\n",
              "      <td>23.3</td>\n",
              "      <td>0.672</td>\n",
              "      <td>32</td>\n",
              "      <td>1</td>\n",
              "    </tr>\n",
              "    <tr>\n",
              "      <th>3</th>\n",
              "      <td>1</td>\n",
              "      <td>89</td>\n",
              "      <td>66</td>\n",
              "      <td>23</td>\n",
              "      <td>94</td>\n",
              "      <td>28.1</td>\n",
              "      <td>0.167</td>\n",
              "      <td>21</td>\n",
              "      <td>0</td>\n",
              "    </tr>\n",
              "    <tr>\n",
              "      <th>4</th>\n",
              "      <td>0</td>\n",
              "      <td>137</td>\n",
              "      <td>40</td>\n",
              "      <td>35</td>\n",
              "      <td>168</td>\n",
              "      <td>43.1</td>\n",
              "      <td>2.288</td>\n",
              "      <td>33</td>\n",
              "      <td>1</td>\n",
              "    </tr>\n",
              "  </tbody>\n",
              "</table>\n",
              "</div>"
            ],
            "text/plain": [
              "   0    1   2   3    4     5      6   7  8\n",
              "0  6  148  72  35    0  33.6  0.627  50  1\n",
              "1  1   85  66  29    0  26.6  0.351  31  0\n",
              "2  8  183  64   0    0  23.3  0.672  32  1\n",
              "3  1   89  66  23   94  28.1  0.167  21  0\n",
              "4  0  137  40  35  168  43.1  2.288  33  1"
            ]
          },
          "execution_count": 1,
          "metadata": {},
          "output_type": "execute_result"
        }
      ],
      "source": [
        "import pandas as pd\n",
        "import numpy as np\n",
        "url='https://raw.githubusercontent.com/jbrownlee/Datasets/master/pima-indians-diabetes.csv'\n",
        "df= pd.read_csv(url,sep=',', header=None)\n",
        "df.head()"
      ]
    },
    {
      "cell_type": "markdown",
      "metadata": {
        "id": "al4fTXwjmH7B"
      },
      "source": [
        "**Variables incorporadas**\n",
        "\n",
        "    0. Numero de veces embarazada (NEMB).\n",
        "    1. Concentracion de plasma de glucosa (GLU)\n",
        "    2. Presion arterial diastolica en mm Hg (PART).\n",
        "    3. Grosor de piel en triceps en mm (GROS).\n",
        "    4. 2-Hour serum insulin en mu U/ml (HUR).\n",
        "    5. BMI (peso kg/(altura en m)^2 en (BMI).\n",
        "    6. Funcion de prediccion de Diabetes (FPRED)\n",
        "    7. Edad (años)  (AGE).\n",
        "    8. Variable de clase (0 or 1)  (CLASS).\n"
      ]
    },
    {
      "cell_type": "code",
      "execution_count": null,
      "metadata": {
        "colab": {
          "base_uri": "https://localhost:8080/",
          "height": 206
        },
        "id": "TzUmWO0gm10R",
        "outputId": "e24523a4-c15b-4196-a9ad-8ed6e129c5d1"
      },
      "outputs": [
        {
          "data": {
            "text/html": [
              "<div>\n",
              "<style scoped>\n",
              "    .dataframe tbody tr th:only-of-type {\n",
              "        vertical-align: middle;\n",
              "    }\n",
              "\n",
              "    .dataframe tbody tr th {\n",
              "        vertical-align: top;\n",
              "    }\n",
              "\n",
              "    .dataframe thead th {\n",
              "        text-align: right;\n",
              "    }\n",
              "</style>\n",
              "<table border=\"1\" class=\"dataframe\">\n",
              "  <thead>\n",
              "    <tr style=\"text-align: right;\">\n",
              "      <th></th>\n",
              "      <th>NEMB</th>\n",
              "      <th>GLU</th>\n",
              "      <th>PART</th>\n",
              "      <th>GROS</th>\n",
              "      <th>HUR</th>\n",
              "      <th>BMI</th>\n",
              "      <th>FPRED</th>\n",
              "      <th>AGE</th>\n",
              "      <th>CLASS</th>\n",
              "    </tr>\n",
              "  </thead>\n",
              "  <tbody>\n",
              "    <tr>\n",
              "      <th>0</th>\n",
              "      <td>6</td>\n",
              "      <td>148</td>\n",
              "      <td>72</td>\n",
              "      <td>35</td>\n",
              "      <td>0</td>\n",
              "      <td>33.6</td>\n",
              "      <td>0.627</td>\n",
              "      <td>50</td>\n",
              "      <td>1</td>\n",
              "    </tr>\n",
              "    <tr>\n",
              "      <th>1</th>\n",
              "      <td>1</td>\n",
              "      <td>85</td>\n",
              "      <td>66</td>\n",
              "      <td>29</td>\n",
              "      <td>0</td>\n",
              "      <td>26.6</td>\n",
              "      <td>0.351</td>\n",
              "      <td>31</td>\n",
              "      <td>0</td>\n",
              "    </tr>\n",
              "    <tr>\n",
              "      <th>2</th>\n",
              "      <td>8</td>\n",
              "      <td>183</td>\n",
              "      <td>64</td>\n",
              "      <td>0</td>\n",
              "      <td>0</td>\n",
              "      <td>23.3</td>\n",
              "      <td>0.672</td>\n",
              "      <td>32</td>\n",
              "      <td>1</td>\n",
              "    </tr>\n",
              "    <tr>\n",
              "      <th>3</th>\n",
              "      <td>1</td>\n",
              "      <td>89</td>\n",
              "      <td>66</td>\n",
              "      <td>23</td>\n",
              "      <td>94</td>\n",
              "      <td>28.1</td>\n",
              "      <td>0.167</td>\n",
              "      <td>21</td>\n",
              "      <td>0</td>\n",
              "    </tr>\n",
              "    <tr>\n",
              "      <th>4</th>\n",
              "      <td>0</td>\n",
              "      <td>137</td>\n",
              "      <td>40</td>\n",
              "      <td>35</td>\n",
              "      <td>168</td>\n",
              "      <td>43.1</td>\n",
              "      <td>2.288</td>\n",
              "      <td>33</td>\n",
              "      <td>1</td>\n",
              "    </tr>\n",
              "  </tbody>\n",
              "</table>\n",
              "</div>"
            ],
            "text/plain": [
              "   NEMB  GLU  PART  GROS  HUR   BMI  FPRED  AGE  CLASS\n",
              "0     6  148    72    35    0  33.6  0.627   50      1\n",
              "1     1   85    66    29    0  26.6  0.351   31      0\n",
              "2     8  183    64     0    0  23.3  0.672   32      1\n",
              "3     1   89    66    23   94  28.1  0.167   21      0\n",
              "4     0  137    40    35  168  43.1  2.288   33      1"
            ]
          },
          "execution_count": 2,
          "metadata": {},
          "output_type": "execute_result"
        }
      ],
      "source": [
        "# renombramos las columnas\n",
        "df= df.rename(columns={0: \"NEMB\", 1: \"GLU\", 2: \"PART\",3:\"GROS\",4:\"HUR\",5:\"BMI\",6:\"FPRED\",7:\"AGE\",8:\"CLASS\"})\n",
        "df.head()"
      ]
    },
    {
      "cell_type": "code",
      "execution_count": null,
      "metadata": {
        "colab": {
          "base_uri": "https://localhost:8080/"
        },
        "id": "AmQIYE06na4q",
        "outputId": "f7fb69c3-6242-457c-e4f7-2be652bd4611"
      },
      "outputs": [
        {
          "name": "stdout",
          "output_type": "stream",
          "text": [
            "<class 'pandas.core.frame.DataFrame'>\n",
            "RangeIndex: 768 entries, 0 to 767\n",
            "Data columns (total 9 columns):\n",
            " #   Column  Non-Null Count  Dtype  \n",
            "---  ------  --------------  -----  \n",
            " 0   NEMB    768 non-null    int64  \n",
            " 1   GLU     768 non-null    int64  \n",
            " 2   PART    768 non-null    int64  \n",
            " 3   GROS    768 non-null    int64  \n",
            " 4   HUR     768 non-null    int64  \n",
            " 5   BMI     768 non-null    float64\n",
            " 6   FPRED   768 non-null    float64\n",
            " 7   AGE     768 non-null    int64  \n",
            " 8   CLASS   768 non-null    int64  \n",
            "dtypes: float64(2), int64(7)\n",
            "memory usage: 54.1 KB\n"
          ]
        }
      ],
      "source": [
        "df.info()"
      ]
    },
    {
      "cell_type": "code",
      "execution_count": null,
      "metadata": {
        "colab": {
          "base_uri": "https://localhost:8080/"
        },
        "id": "RK7qAGHGncbb",
        "outputId": "53a8b89d-8861-4c7f-b106-73fc00f5c92e"
      },
      "outputs": [
        {
          "data": {
            "text/plain": [
              "(768, 9)"
            ]
          },
          "execution_count": 4,
          "metadata": {},
          "output_type": "execute_result"
        }
      ],
      "source": [
        "df.shape"
      ]
    },
    {
      "cell_type": "code",
      "execution_count": null,
      "metadata": {
        "colab": {
          "base_uri": "https://localhost:8080/",
          "height": 364
        },
        "id": "0bDbEcoUn18g",
        "outputId": "9d38e05c-2c49-4b0e-a3cc-dea684410470"
      },
      "outputs": [
        {
          "data": {
            "text/html": [
              "<div>\n",
              "<style scoped>\n",
              "    .dataframe tbody tr th:only-of-type {\n",
              "        vertical-align: middle;\n",
              "    }\n",
              "\n",
              "    .dataframe tbody tr th {\n",
              "        vertical-align: top;\n",
              "    }\n",
              "\n",
              "    .dataframe thead th {\n",
              "        text-align: right;\n",
              "    }\n",
              "</style>\n",
              "<table border=\"1\" class=\"dataframe\">\n",
              "  <thead>\n",
              "    <tr style=\"text-align: right;\">\n",
              "      <th></th>\n",
              "      <th>NEMB</th>\n",
              "      <th>GLU</th>\n",
              "      <th>PART</th>\n",
              "      <th>GROS</th>\n",
              "      <th>HUR</th>\n",
              "      <th>BMI</th>\n",
              "      <th>FPRED</th>\n",
              "      <th>AGE</th>\n",
              "      <th>CLASS</th>\n",
              "    </tr>\n",
              "  </thead>\n",
              "  <tbody>\n",
              "    <tr>\n",
              "      <th>count</th>\n",
              "      <td>768.000000</td>\n",
              "      <td>768.000000</td>\n",
              "      <td>768.000000</td>\n",
              "      <td>768.000000</td>\n",
              "      <td>768.000000</td>\n",
              "      <td>768.000000</td>\n",
              "      <td>768.000000</td>\n",
              "      <td>768.000000</td>\n",
              "      <td>768.000000</td>\n",
              "    </tr>\n",
              "    <tr>\n",
              "      <th>mean</th>\n",
              "      <td>3.845052</td>\n",
              "      <td>120.894531</td>\n",
              "      <td>69.105469</td>\n",
              "      <td>20.536458</td>\n",
              "      <td>79.799479</td>\n",
              "      <td>31.992578</td>\n",
              "      <td>0.471876</td>\n",
              "      <td>33.240885</td>\n",
              "      <td>0.348958</td>\n",
              "    </tr>\n",
              "    <tr>\n",
              "      <th>std</th>\n",
              "      <td>3.369578</td>\n",
              "      <td>31.972618</td>\n",
              "      <td>19.355807</td>\n",
              "      <td>15.952218</td>\n",
              "      <td>115.244002</td>\n",
              "      <td>7.884160</td>\n",
              "      <td>0.331329</td>\n",
              "      <td>11.760232</td>\n",
              "      <td>0.476951</td>\n",
              "    </tr>\n",
              "    <tr>\n",
              "      <th>min</th>\n",
              "      <td>0.000000</td>\n",
              "      <td>0.000000</td>\n",
              "      <td>0.000000</td>\n",
              "      <td>0.000000</td>\n",
              "      <td>0.000000</td>\n",
              "      <td>0.000000</td>\n",
              "      <td>0.078000</td>\n",
              "      <td>21.000000</td>\n",
              "      <td>0.000000</td>\n",
              "    </tr>\n",
              "    <tr>\n",
              "      <th>25%</th>\n",
              "      <td>1.000000</td>\n",
              "      <td>99.000000</td>\n",
              "      <td>62.000000</td>\n",
              "      <td>0.000000</td>\n",
              "      <td>0.000000</td>\n",
              "      <td>27.300000</td>\n",
              "      <td>0.243750</td>\n",
              "      <td>24.000000</td>\n",
              "      <td>0.000000</td>\n",
              "    </tr>\n",
              "    <tr>\n",
              "      <th>50%</th>\n",
              "      <td>3.000000</td>\n",
              "      <td>117.000000</td>\n",
              "      <td>72.000000</td>\n",
              "      <td>23.000000</td>\n",
              "      <td>30.500000</td>\n",
              "      <td>32.000000</td>\n",
              "      <td>0.372500</td>\n",
              "      <td>29.000000</td>\n",
              "      <td>0.000000</td>\n",
              "    </tr>\n",
              "    <tr>\n",
              "      <th>75%</th>\n",
              "      <td>6.000000</td>\n",
              "      <td>140.250000</td>\n",
              "      <td>80.000000</td>\n",
              "      <td>32.000000</td>\n",
              "      <td>127.250000</td>\n",
              "      <td>36.600000</td>\n",
              "      <td>0.626250</td>\n",
              "      <td>41.000000</td>\n",
              "      <td>1.000000</td>\n",
              "    </tr>\n",
              "    <tr>\n",
              "      <th>max</th>\n",
              "      <td>17.000000</td>\n",
              "      <td>199.000000</td>\n",
              "      <td>122.000000</td>\n",
              "      <td>99.000000</td>\n",
              "      <td>846.000000</td>\n",
              "      <td>67.100000</td>\n",
              "      <td>2.420000</td>\n",
              "      <td>81.000000</td>\n",
              "      <td>1.000000</td>\n",
              "    </tr>\n",
              "  </tbody>\n",
              "</table>\n",
              "</div>"
            ],
            "text/plain": [
              "             NEMB         GLU        PART        GROS         HUR         BMI  \\\n",
              "count  768.000000  768.000000  768.000000  768.000000  768.000000  768.000000   \n",
              "mean     3.845052  120.894531   69.105469   20.536458   79.799479   31.992578   \n",
              "std      3.369578   31.972618   19.355807   15.952218  115.244002    7.884160   \n",
              "min      0.000000    0.000000    0.000000    0.000000    0.000000    0.000000   \n",
              "25%      1.000000   99.000000   62.000000    0.000000    0.000000   27.300000   \n",
              "50%      3.000000  117.000000   72.000000   23.000000   30.500000   32.000000   \n",
              "75%      6.000000  140.250000   80.000000   32.000000  127.250000   36.600000   \n",
              "max     17.000000  199.000000  122.000000   99.000000  846.000000   67.100000   \n",
              "\n",
              "            FPRED         AGE       CLASS  \n",
              "count  768.000000  768.000000  768.000000  \n",
              "mean     0.471876   33.240885    0.348958  \n",
              "std      0.331329   11.760232    0.476951  \n",
              "min      0.078000   21.000000    0.000000  \n",
              "25%      0.243750   24.000000    0.000000  \n",
              "50%      0.372500   29.000000    0.000000  \n",
              "75%      0.626250   41.000000    1.000000  \n",
              "max      2.420000   81.000000    1.000000  "
            ]
          },
          "execution_count": 5,
          "metadata": {},
          "output_type": "execute_result"
        }
      ],
      "source": [
        "df.describe()"
      ]
    },
    {
      "cell_type": "code",
      "execution_count": null,
      "metadata": {
        "colab": {
          "base_uri": "https://localhost:8080/",
          "height": 300
        },
        "id": "kEWzh2qyBck1",
        "outputId": "65f1ce0b-628f-4c85-f5c7-7112730f6bbc"
      },
      "outputs": [
        {
          "data": {
            "text/html": [
              "<div>\n",
              "<style scoped>\n",
              "    .dataframe tbody tr th:only-of-type {\n",
              "        vertical-align: middle;\n",
              "    }\n",
              "\n",
              "    .dataframe tbody tr th {\n",
              "        vertical-align: top;\n",
              "    }\n",
              "\n",
              "    .dataframe thead th {\n",
              "        text-align: right;\n",
              "    }\n",
              "</style>\n",
              "<table border=\"1\" class=\"dataframe\">\n",
              "  <thead>\n",
              "    <tr style=\"text-align: right;\">\n",
              "      <th></th>\n",
              "      <th>NEMB</th>\n",
              "      <th>GLU</th>\n",
              "      <th>PART</th>\n",
              "      <th>GROS</th>\n",
              "      <th>HUR</th>\n",
              "      <th>BMI</th>\n",
              "      <th>FPRED</th>\n",
              "      <th>AGE</th>\n",
              "      <th>CLASS</th>\n",
              "    </tr>\n",
              "  </thead>\n",
              "  <tbody>\n",
              "    <tr>\n",
              "      <th>count</th>\n",
              "      <td>768.0</td>\n",
              "      <td>768.0</td>\n",
              "      <td>768.0</td>\n",
              "      <td>768.0</td>\n",
              "      <td>768.0</td>\n",
              "      <td>768.0</td>\n",
              "      <td>768.0</td>\n",
              "      <td>768.0</td>\n",
              "      <td>768.0</td>\n",
              "    </tr>\n",
              "    <tr>\n",
              "      <th>mean</th>\n",
              "      <td>3.8</td>\n",
              "      <td>120.9</td>\n",
              "      <td>69.1</td>\n",
              "      <td>20.5</td>\n",
              "      <td>79.8</td>\n",
              "      <td>32.0</td>\n",
              "      <td>0.5</td>\n",
              "      <td>33.2</td>\n",
              "      <td>0.3</td>\n",
              "    </tr>\n",
              "    <tr>\n",
              "      <th>std</th>\n",
              "      <td>3.4</td>\n",
              "      <td>32.0</td>\n",
              "      <td>19.4</td>\n",
              "      <td>16.0</td>\n",
              "      <td>115.2</td>\n",
              "      <td>7.9</td>\n",
              "      <td>0.3</td>\n",
              "      <td>11.8</td>\n",
              "      <td>0.5</td>\n",
              "    </tr>\n",
              "    <tr>\n",
              "      <th>min</th>\n",
              "      <td>0.0</td>\n",
              "      <td>0.0</td>\n",
              "      <td>0.0</td>\n",
              "      <td>0.0</td>\n",
              "      <td>0.0</td>\n",
              "      <td>0.0</td>\n",
              "      <td>0.1</td>\n",
              "      <td>21.0</td>\n",
              "      <td>0.0</td>\n",
              "    </tr>\n",
              "    <tr>\n",
              "      <th>25%</th>\n",
              "      <td>1.0</td>\n",
              "      <td>99.0</td>\n",
              "      <td>62.0</td>\n",
              "      <td>0.0</td>\n",
              "      <td>0.0</td>\n",
              "      <td>27.3</td>\n",
              "      <td>0.2</td>\n",
              "      <td>24.0</td>\n",
              "      <td>0.0</td>\n",
              "    </tr>\n",
              "    <tr>\n",
              "      <th>50%</th>\n",
              "      <td>3.0</td>\n",
              "      <td>117.0</td>\n",
              "      <td>72.0</td>\n",
              "      <td>23.0</td>\n",
              "      <td>30.5</td>\n",
              "      <td>32.0</td>\n",
              "      <td>0.4</td>\n",
              "      <td>29.0</td>\n",
              "      <td>0.0</td>\n",
              "    </tr>\n",
              "    <tr>\n",
              "      <th>75%</th>\n",
              "      <td>6.0</td>\n",
              "      <td>140.2</td>\n",
              "      <td>80.0</td>\n",
              "      <td>32.0</td>\n",
              "      <td>127.2</td>\n",
              "      <td>36.6</td>\n",
              "      <td>0.6</td>\n",
              "      <td>41.0</td>\n",
              "      <td>1.0</td>\n",
              "    </tr>\n",
              "    <tr>\n",
              "      <th>max</th>\n",
              "      <td>17.0</td>\n",
              "      <td>199.0</td>\n",
              "      <td>122.0</td>\n",
              "      <td>99.0</td>\n",
              "      <td>846.0</td>\n",
              "      <td>67.1</td>\n",
              "      <td>2.4</td>\n",
              "      <td>81.0</td>\n",
              "      <td>1.0</td>\n",
              "    </tr>\n",
              "  </tbody>\n",
              "</table>\n",
              "</div>"
            ],
            "text/plain": [
              "        NEMB    GLU   PART   GROS    HUR    BMI  FPRED    AGE  CLASS\n",
              "count  768.0  768.0  768.0  768.0  768.0  768.0  768.0  768.0  768.0\n",
              "mean     3.8  120.9   69.1   20.5   79.8   32.0    0.5   33.2    0.3\n",
              "std      3.4   32.0   19.4   16.0  115.2    7.9    0.3   11.8    0.5\n",
              "min      0.0    0.0    0.0    0.0    0.0    0.0    0.1   21.0    0.0\n",
              "25%      1.0   99.0   62.0    0.0    0.0   27.3    0.2   24.0    0.0\n",
              "50%      3.0  117.0   72.0   23.0   30.5   32.0    0.4   29.0    0.0\n",
              "75%      6.0  140.2   80.0   32.0  127.2   36.6    0.6   41.0    1.0\n",
              "max     17.0  199.0  122.0   99.0  846.0   67.1    2.4   81.0    1.0"
            ]
          },
          "execution_count": 6,
          "metadata": {},
          "output_type": "execute_result"
        }
      ],
      "source": [
        "resumen=df.describe().round(1)\n",
        "resumen"
      ]
    },
    {
      "cell_type": "markdown",
      "metadata": {
        "id": "SGCKJM-in78J"
      },
      "source": [
        "Se observan muchas columnas con valores minimos de 0 lo cual tiene poco sentido practico como por ejemplo:\n",
        "\n",
        "    1. Concentracion de plasma de glucosa (GLU)\n",
        "    2. Presion arterial diastolica en mm Hg (PART).\n",
        "    3. Grosor de piel en triceps en mm (GROS).\n",
        "    4. 2-Hour serum insulin en mu U/ml (HUR).\n",
        "    5. BMI (peso kg/(altura en m)^2 en (BMI).\n"
      ]
    },
    {
      "cell_type": "markdown",
      "metadata": {
        "id": "yH7InMjMoX_c"
      },
      "source": [
        "Calculemos cuantos valores problematicos tenemos"
      ]
    },
    {
      "cell_type": "code",
      "execution_count": null,
      "metadata": {
        "colab": {
          "base_uri": "https://localhost:8080/"
        },
        "id": "4VVkBr1boaGR",
        "outputId": "dcec2b51-e204-4165-d37a-1705733e959b"
      },
      "outputs": [
        {
          "name": "stdout",
          "output_type": "stream",
          "text": [
            "GLU       5\n",
            "PART     35\n",
            "GROS    227\n",
            "HUR     374\n",
            "BMI      11\n",
            "dtype: int64\n"
          ]
        }
      ],
      "source": [
        "# contar el numero de valores que son 0 por columnas\n",
        "nun_missing = (df[['GLU','PART','GROS','HUR','BMI']] == 0).sum()\n",
        "print(nun_missing)"
      ]
    },
    {
      "cell_type": "markdown",
      "metadata": {
        "id": "AgzlnIUiozpX"
      },
      "source": [
        "Reemplazar estos valores por NaN"
      ]
    },
    {
      "cell_type": "code",
      "execution_count": null,
      "metadata": {
        "colab": {
          "base_uri": "https://localhost:8080/"
        },
        "id": "mbnydAYkoXWv",
        "outputId": "f89a1b0f-1078-4546-d355-e86084b7cec9"
      },
      "outputs": [
        {
          "name": "stdout",
          "output_type": "stream",
          "text": [
            "NEMB       0\n",
            "GLU        5\n",
            "PART      35\n",
            "GROS     227\n",
            "HUR      374\n",
            "BMI       11\n",
            "FPRED      0\n",
            "AGE        0\n",
            "CLASS      0\n",
            "dtype: int64\n"
          ]
        }
      ],
      "source": [
        "# replace '0' values with 'nan'\n",
        "df[['GLU','PART','GROS','HUR','BMI']] = df[['GLU','PART','GROS','HUR','BMI']].replace(0, np.nan)\n",
        "# count the number of nan values in each column\n",
        "print(df.isnull().sum())"
      ]
    },
    {
      "cell_type": "code",
      "execution_count": null,
      "metadata": {
        "colab": {
          "base_uri": "https://localhost:8080/",
          "height": 206
        },
        "id": "KVjGHyWXJV7z",
        "outputId": "7b70cee7-c5f0-483b-d319-63bc0d030120"
      },
      "outputs": [
        {
          "data": {
            "text/html": [
              "<div>\n",
              "<style scoped>\n",
              "    .dataframe tbody tr th:only-of-type {\n",
              "        vertical-align: middle;\n",
              "    }\n",
              "\n",
              "    .dataframe tbody tr th {\n",
              "        vertical-align: top;\n",
              "    }\n",
              "\n",
              "    .dataframe thead th {\n",
              "        text-align: right;\n",
              "    }\n",
              "</style>\n",
              "<table border=\"1\" class=\"dataframe\">\n",
              "  <thead>\n",
              "    <tr style=\"text-align: right;\">\n",
              "      <th></th>\n",
              "      <th>NEMB</th>\n",
              "      <th>GLU</th>\n",
              "      <th>PART</th>\n",
              "      <th>GROS</th>\n",
              "      <th>HUR</th>\n",
              "      <th>BMI</th>\n",
              "      <th>FPRED</th>\n",
              "      <th>AGE</th>\n",
              "      <th>CLASS</th>\n",
              "    </tr>\n",
              "  </thead>\n",
              "  <tbody>\n",
              "    <tr>\n",
              "      <th>75</th>\n",
              "      <td>1</td>\n",
              "      <td>NaN</td>\n",
              "      <td>48.0</td>\n",
              "      <td>20.0</td>\n",
              "      <td>NaN</td>\n",
              "      <td>24.7</td>\n",
              "      <td>0.140</td>\n",
              "      <td>22</td>\n",
              "      <td>0</td>\n",
              "    </tr>\n",
              "    <tr>\n",
              "      <th>182</th>\n",
              "      <td>1</td>\n",
              "      <td>NaN</td>\n",
              "      <td>74.0</td>\n",
              "      <td>20.0</td>\n",
              "      <td>23.0</td>\n",
              "      <td>27.7</td>\n",
              "      <td>0.299</td>\n",
              "      <td>21</td>\n",
              "      <td>0</td>\n",
              "    </tr>\n",
              "    <tr>\n",
              "      <th>342</th>\n",
              "      <td>1</td>\n",
              "      <td>NaN</td>\n",
              "      <td>68.0</td>\n",
              "      <td>35.0</td>\n",
              "      <td>NaN</td>\n",
              "      <td>32.0</td>\n",
              "      <td>0.389</td>\n",
              "      <td>22</td>\n",
              "      <td>0</td>\n",
              "    </tr>\n",
              "    <tr>\n",
              "      <th>349</th>\n",
              "      <td>5</td>\n",
              "      <td>NaN</td>\n",
              "      <td>80.0</td>\n",
              "      <td>32.0</td>\n",
              "      <td>NaN</td>\n",
              "      <td>41.0</td>\n",
              "      <td>0.346</td>\n",
              "      <td>37</td>\n",
              "      <td>1</td>\n",
              "    </tr>\n",
              "    <tr>\n",
              "      <th>502</th>\n",
              "      <td>6</td>\n",
              "      <td>NaN</td>\n",
              "      <td>68.0</td>\n",
              "      <td>41.0</td>\n",
              "      <td>NaN</td>\n",
              "      <td>39.0</td>\n",
              "      <td>0.727</td>\n",
              "      <td>41</td>\n",
              "      <td>1</td>\n",
              "    </tr>\n",
              "  </tbody>\n",
              "</table>\n",
              "</div>"
            ],
            "text/plain": [
              "     NEMB  GLU  PART  GROS   HUR   BMI  FPRED  AGE  CLASS\n",
              "75      1  NaN  48.0  20.0   NaN  24.7  0.140   22      0\n",
              "182     1  NaN  74.0  20.0  23.0  27.7  0.299   21      0\n",
              "342     1  NaN  68.0  35.0   NaN  32.0  0.389   22      0\n",
              "349     5  NaN  80.0  32.0   NaN  41.0  0.346   37      1\n",
              "502     6  NaN  68.0  41.0   NaN  39.0  0.727   41      1"
            ]
          },
          "execution_count": 9,
          "metadata": {},
          "output_type": "execute_result"
        }
      ],
      "source": [
        "df.loc[df.GLU.isna()]"
      ]
    },
    {
      "cell_type": "code",
      "execution_count": null,
      "metadata": {
        "colab": {
          "base_uri": "https://localhost:8080/"
        },
        "id": "H_QC-P18WDaQ",
        "outputId": "ea4ede1d-1b68-49c0-fbd2-ce8786743208"
      },
      "outputs": [
        {
          "name": "stdout",
          "output_type": "stream",
          "text": [
            "NEMB       0\n",
            "GLU        5\n",
            "PART      35\n",
            "GROS     227\n",
            "HUR      374\n",
            "BMI       11\n",
            "FPRED      0\n",
            "AGE        0\n",
            "CLASS      0\n",
            "dtype: int64\n"
          ]
        }
      ],
      "source": [
        "\"\"\"\n",
        "La única diferencia entre isna() e isnull() es su nombre. isnull() es el nombre original de la función que se ha\n",
        "utilizado en versiones anteriores de Pandas, mientras que isna() es un alias que se ha agregado luego\n",
        "para mejorar la legibilidad del código.\n",
        "\"\"\"\n",
        "\n",
        "print(df.isna().sum())"
      ]
    },
    {
      "cell_type": "code",
      "execution_count": null,
      "metadata": {
        "colab": {
          "base_uri": "https://localhost:8080/"
        },
        "id": "2UNM749YKEQW",
        "outputId": "55ed7e76-83d8-4736-ade4-572839149f09"
      },
      "outputs": [
        {
          "name": "stdout",
          "output_type": "stream",
          "text": [
            "6\n"
          ]
        }
      ],
      "source": [
        "#que pasa si necesitamos reemplazar valores que son fisicamente sospechosos\n",
        "url='https://raw.githubusercontent.com/jbrownlee/Datasets/master/pima-indians-diabetes.csv'\n",
        "df2= pd.read_csv(url,sep=',', header=None)\n",
        "df2= df2.rename(columns={0: \"NEMB\", 1: \"GLU\", 2: \"PART\",3:\"GROS\",4:\"HUR\",5:\"BMI\",6:\"FPRED\",7:\"AGE\",8:\"CLASS\"})\n",
        "nun_missing_2 = (df2['GLU'] < 45).sum()\n",
        "print(nun_missing_2)"
      ]
    },
    {
      "cell_type": "code",
      "execution_count": null,
      "metadata": {
        "colab": {
          "base_uri": "https://localhost:8080/"
        },
        "id": "oPbtCw8VLf05",
        "outputId": "18b2cd8d-b71f-4e75-a38c-a9757d7b221b"
      },
      "outputs": [
        {
          "name": "stdout",
          "output_type": "stream",
          "text": [
            "0\n"
          ]
        }
      ],
      "source": [
        "# reemplazar los valores menores que 45 por np.nan\n",
        "df2['GLU'] = df2['GLU'].where(df2['GLU'] > 45, np.nan)\n",
        "nun_missing_3 = (df2['GLU'] < 45).sum()\n",
        "print(nun_missing_3)"
      ]
    },
    {
      "cell_type": "code",
      "execution_count": null,
      "metadata": {
        "colab": {
          "base_uri": "https://localhost:8080/",
          "height": 423
        },
        "id": "OKdZ_SqGmAvy",
        "outputId": "10ad264f-ab19-4d7a-ad30-f20c47940aa1"
      },
      "outputs": [
        {
          "data": {
            "text/html": [
              "<div>\n",
              "<style scoped>\n",
              "    .dataframe tbody tr th:only-of-type {\n",
              "        vertical-align: middle;\n",
              "    }\n",
              "\n",
              "    .dataframe tbody tr th {\n",
              "        vertical-align: top;\n",
              "    }\n",
              "\n",
              "    .dataframe thead th {\n",
              "        text-align: right;\n",
              "    }\n",
              "</style>\n",
              "<table border=\"1\" class=\"dataframe\">\n",
              "  <thead>\n",
              "    <tr style=\"text-align: right;\">\n",
              "      <th></th>\n",
              "      <th>NEMB</th>\n",
              "      <th>GLU</th>\n",
              "      <th>PART</th>\n",
              "      <th>GROS</th>\n",
              "      <th>HUR</th>\n",
              "      <th>BMI</th>\n",
              "      <th>FPRED</th>\n",
              "      <th>AGE</th>\n",
              "      <th>CLASS</th>\n",
              "    </tr>\n",
              "  </thead>\n",
              "  <tbody>\n",
              "    <tr>\n",
              "      <th>0</th>\n",
              "      <td>6</td>\n",
              "      <td>148.0</td>\n",
              "      <td>72</td>\n",
              "      <td>35</td>\n",
              "      <td>0</td>\n",
              "      <td>33.6</td>\n",
              "      <td>0.627</td>\n",
              "      <td>50</td>\n",
              "      <td>1</td>\n",
              "    </tr>\n",
              "    <tr>\n",
              "      <th>1</th>\n",
              "      <td>1</td>\n",
              "      <td>85.0</td>\n",
              "      <td>66</td>\n",
              "      <td>29</td>\n",
              "      <td>0</td>\n",
              "      <td>26.6</td>\n",
              "      <td>0.351</td>\n",
              "      <td>31</td>\n",
              "      <td>0</td>\n",
              "    </tr>\n",
              "    <tr>\n",
              "      <th>2</th>\n",
              "      <td>8</td>\n",
              "      <td>183.0</td>\n",
              "      <td>64</td>\n",
              "      <td>0</td>\n",
              "      <td>0</td>\n",
              "      <td>23.3</td>\n",
              "      <td>0.672</td>\n",
              "      <td>32</td>\n",
              "      <td>1</td>\n",
              "    </tr>\n",
              "    <tr>\n",
              "      <th>3</th>\n",
              "      <td>1</td>\n",
              "      <td>89.0</td>\n",
              "      <td>66</td>\n",
              "      <td>23</td>\n",
              "      <td>94</td>\n",
              "      <td>28.1</td>\n",
              "      <td>0.167</td>\n",
              "      <td>21</td>\n",
              "      <td>0</td>\n",
              "    </tr>\n",
              "    <tr>\n",
              "      <th>4</th>\n",
              "      <td>0</td>\n",
              "      <td>137.0</td>\n",
              "      <td>40</td>\n",
              "      <td>35</td>\n",
              "      <td>168</td>\n",
              "      <td>43.1</td>\n",
              "      <td>2.288</td>\n",
              "      <td>33</td>\n",
              "      <td>1</td>\n",
              "    </tr>\n",
              "    <tr>\n",
              "      <th>...</th>\n",
              "      <td>...</td>\n",
              "      <td>...</td>\n",
              "      <td>...</td>\n",
              "      <td>...</td>\n",
              "      <td>...</td>\n",
              "      <td>...</td>\n",
              "      <td>...</td>\n",
              "      <td>...</td>\n",
              "      <td>...</td>\n",
              "    </tr>\n",
              "    <tr>\n",
              "      <th>763</th>\n",
              "      <td>10</td>\n",
              "      <td>101.0</td>\n",
              "      <td>76</td>\n",
              "      <td>48</td>\n",
              "      <td>180</td>\n",
              "      <td>32.9</td>\n",
              "      <td>0.171</td>\n",
              "      <td>63</td>\n",
              "      <td>0</td>\n",
              "    </tr>\n",
              "    <tr>\n",
              "      <th>764</th>\n",
              "      <td>2</td>\n",
              "      <td>122.0</td>\n",
              "      <td>70</td>\n",
              "      <td>27</td>\n",
              "      <td>0</td>\n",
              "      <td>36.8</td>\n",
              "      <td>0.340</td>\n",
              "      <td>27</td>\n",
              "      <td>0</td>\n",
              "    </tr>\n",
              "    <tr>\n",
              "      <th>765</th>\n",
              "      <td>5</td>\n",
              "      <td>121.0</td>\n",
              "      <td>72</td>\n",
              "      <td>23</td>\n",
              "      <td>112</td>\n",
              "      <td>26.2</td>\n",
              "      <td>0.245</td>\n",
              "      <td>30</td>\n",
              "      <td>0</td>\n",
              "    </tr>\n",
              "    <tr>\n",
              "      <th>766</th>\n",
              "      <td>1</td>\n",
              "      <td>126.0</td>\n",
              "      <td>60</td>\n",
              "      <td>0</td>\n",
              "      <td>0</td>\n",
              "      <td>30.1</td>\n",
              "      <td>0.349</td>\n",
              "      <td>47</td>\n",
              "      <td>1</td>\n",
              "    </tr>\n",
              "    <tr>\n",
              "      <th>767</th>\n",
              "      <td>1</td>\n",
              "      <td>93.0</td>\n",
              "      <td>70</td>\n",
              "      <td>31</td>\n",
              "      <td>0</td>\n",
              "      <td>30.4</td>\n",
              "      <td>0.315</td>\n",
              "      <td>23</td>\n",
              "      <td>0</td>\n",
              "    </tr>\n",
              "  </tbody>\n",
              "</table>\n",
              "<p>768 rows × 9 columns</p>\n",
              "</div>"
            ],
            "text/plain": [
              "     NEMB    GLU  PART  GROS  HUR   BMI  FPRED  AGE  CLASS\n",
              "0       6  148.0    72    35    0  33.6  0.627   50      1\n",
              "1       1   85.0    66    29    0  26.6  0.351   31      0\n",
              "2       8  183.0    64     0    0  23.3  0.672   32      1\n",
              "3       1   89.0    66    23   94  28.1  0.167   21      0\n",
              "4       0  137.0    40    35  168  43.1  2.288   33      1\n",
              "..    ...    ...   ...   ...  ...   ...    ...  ...    ...\n",
              "763    10  101.0    76    48  180  32.9  0.171   63      0\n",
              "764     2  122.0    70    27    0  36.8  0.340   27      0\n",
              "765     5  121.0    72    23  112  26.2  0.245   30      0\n",
              "766     1  126.0    60     0    0  30.1  0.349   47      1\n",
              "767     1   93.0    70    31    0  30.4  0.315   23      0\n",
              "\n",
              "[768 rows x 9 columns]"
            ]
          },
          "execution_count": 13,
          "metadata": {},
          "output_type": "execute_result"
        }
      ],
      "source": [
        "df2"
      ]
    },
    {
      "cell_type": "markdown",
      "metadata": {
        "id": "38I2Gl6NpYOp"
      },
      "source": [
        "## Opcion 1 : Remover filas con valores faltantes"
      ]
    },
    {
      "cell_type": "code",
      "execution_count": null,
      "metadata": {
        "colab": {
          "base_uri": "https://localhost:8080/"
        },
        "id": "uMNKVG3YpaSQ",
        "outputId": "4125c683-d215-4d00-a49b-d07ab1b59a08"
      },
      "outputs": [
        {
          "data": {
            "text/plain": [
              "(392, 9)"
            ]
          },
          "execution_count": 14,
          "metadata": {},
          "output_type": "execute_result"
        }
      ],
      "source": [
        "# remover filas con na\n",
        "df.dropna(inplace=True)\n",
        "# mirar el resultado final\n",
        "df.shape"
      ]
    },
    {
      "cell_type": "code",
      "execution_count": null,
      "metadata": {
        "colab": {
          "base_uri": "https://localhost:8080/",
          "height": 423
        },
        "id": "a-1snctNIWeo",
        "outputId": "c566ddb1-0fba-4319-f533-c49b9b3c422f"
      },
      "outputs": [
        {
          "data": {
            "text/html": [
              "<div>\n",
              "<style scoped>\n",
              "    .dataframe tbody tr th:only-of-type {\n",
              "        vertical-align: middle;\n",
              "    }\n",
              "\n",
              "    .dataframe tbody tr th {\n",
              "        vertical-align: top;\n",
              "    }\n",
              "\n",
              "    .dataframe thead th {\n",
              "        text-align: right;\n",
              "    }\n",
              "</style>\n",
              "<table border=\"1\" class=\"dataframe\">\n",
              "  <thead>\n",
              "    <tr style=\"text-align: right;\">\n",
              "      <th></th>\n",
              "      <th>NEMB</th>\n",
              "      <th>GLU</th>\n",
              "      <th>PART</th>\n",
              "      <th>GROS</th>\n",
              "      <th>HUR</th>\n",
              "      <th>BMI</th>\n",
              "      <th>FPRED</th>\n",
              "      <th>AGE</th>\n",
              "      <th>CLASS</th>\n",
              "    </tr>\n",
              "  </thead>\n",
              "  <tbody>\n",
              "    <tr>\n",
              "      <th>3</th>\n",
              "      <td>1</td>\n",
              "      <td>89.0</td>\n",
              "      <td>66.0</td>\n",
              "      <td>23.0</td>\n",
              "      <td>94.0</td>\n",
              "      <td>28.1</td>\n",
              "      <td>0.167</td>\n",
              "      <td>21</td>\n",
              "      <td>0</td>\n",
              "    </tr>\n",
              "    <tr>\n",
              "      <th>4</th>\n",
              "      <td>0</td>\n",
              "      <td>137.0</td>\n",
              "      <td>40.0</td>\n",
              "      <td>35.0</td>\n",
              "      <td>168.0</td>\n",
              "      <td>43.1</td>\n",
              "      <td>2.288</td>\n",
              "      <td>33</td>\n",
              "      <td>1</td>\n",
              "    </tr>\n",
              "    <tr>\n",
              "      <th>6</th>\n",
              "      <td>3</td>\n",
              "      <td>78.0</td>\n",
              "      <td>50.0</td>\n",
              "      <td>32.0</td>\n",
              "      <td>88.0</td>\n",
              "      <td>31.0</td>\n",
              "      <td>0.248</td>\n",
              "      <td>26</td>\n",
              "      <td>1</td>\n",
              "    </tr>\n",
              "    <tr>\n",
              "      <th>8</th>\n",
              "      <td>2</td>\n",
              "      <td>197.0</td>\n",
              "      <td>70.0</td>\n",
              "      <td>45.0</td>\n",
              "      <td>543.0</td>\n",
              "      <td>30.5</td>\n",
              "      <td>0.158</td>\n",
              "      <td>53</td>\n",
              "      <td>1</td>\n",
              "    </tr>\n",
              "    <tr>\n",
              "      <th>13</th>\n",
              "      <td>1</td>\n",
              "      <td>189.0</td>\n",
              "      <td>60.0</td>\n",
              "      <td>23.0</td>\n",
              "      <td>846.0</td>\n",
              "      <td>30.1</td>\n",
              "      <td>0.398</td>\n",
              "      <td>59</td>\n",
              "      <td>1</td>\n",
              "    </tr>\n",
              "    <tr>\n",
              "      <th>...</th>\n",
              "      <td>...</td>\n",
              "      <td>...</td>\n",
              "      <td>...</td>\n",
              "      <td>...</td>\n",
              "      <td>...</td>\n",
              "      <td>...</td>\n",
              "      <td>...</td>\n",
              "      <td>...</td>\n",
              "      <td>...</td>\n",
              "    </tr>\n",
              "    <tr>\n",
              "      <th>753</th>\n",
              "      <td>0</td>\n",
              "      <td>181.0</td>\n",
              "      <td>88.0</td>\n",
              "      <td>44.0</td>\n",
              "      <td>510.0</td>\n",
              "      <td>43.3</td>\n",
              "      <td>0.222</td>\n",
              "      <td>26</td>\n",
              "      <td>1</td>\n",
              "    </tr>\n",
              "    <tr>\n",
              "      <th>755</th>\n",
              "      <td>1</td>\n",
              "      <td>128.0</td>\n",
              "      <td>88.0</td>\n",
              "      <td>39.0</td>\n",
              "      <td>110.0</td>\n",
              "      <td>36.5</td>\n",
              "      <td>1.057</td>\n",
              "      <td>37</td>\n",
              "      <td>1</td>\n",
              "    </tr>\n",
              "    <tr>\n",
              "      <th>760</th>\n",
              "      <td>2</td>\n",
              "      <td>88.0</td>\n",
              "      <td>58.0</td>\n",
              "      <td>26.0</td>\n",
              "      <td>16.0</td>\n",
              "      <td>28.4</td>\n",
              "      <td>0.766</td>\n",
              "      <td>22</td>\n",
              "      <td>0</td>\n",
              "    </tr>\n",
              "    <tr>\n",
              "      <th>763</th>\n",
              "      <td>10</td>\n",
              "      <td>101.0</td>\n",
              "      <td>76.0</td>\n",
              "      <td>48.0</td>\n",
              "      <td>180.0</td>\n",
              "      <td>32.9</td>\n",
              "      <td>0.171</td>\n",
              "      <td>63</td>\n",
              "      <td>0</td>\n",
              "    </tr>\n",
              "    <tr>\n",
              "      <th>765</th>\n",
              "      <td>5</td>\n",
              "      <td>121.0</td>\n",
              "      <td>72.0</td>\n",
              "      <td>23.0</td>\n",
              "      <td>112.0</td>\n",
              "      <td>26.2</td>\n",
              "      <td>0.245</td>\n",
              "      <td>30</td>\n",
              "      <td>0</td>\n",
              "    </tr>\n",
              "  </tbody>\n",
              "</table>\n",
              "<p>392 rows × 9 columns</p>\n",
              "</div>"
            ],
            "text/plain": [
              "     NEMB    GLU  PART  GROS    HUR   BMI  FPRED  AGE  CLASS\n",
              "3       1   89.0  66.0  23.0   94.0  28.1  0.167   21      0\n",
              "4       0  137.0  40.0  35.0  168.0  43.1  2.288   33      1\n",
              "6       3   78.0  50.0  32.0   88.0  31.0  0.248   26      1\n",
              "8       2  197.0  70.0  45.0  543.0  30.5  0.158   53      1\n",
              "13      1  189.0  60.0  23.0  846.0  30.1  0.398   59      1\n",
              "..    ...    ...   ...   ...    ...   ...    ...  ...    ...\n",
              "753     0  181.0  88.0  44.0  510.0  43.3  0.222   26      1\n",
              "755     1  128.0  88.0  39.0  110.0  36.5  1.057   37      1\n",
              "760     2   88.0  58.0  26.0   16.0  28.4  0.766   22      0\n",
              "763    10  101.0  76.0  48.0  180.0  32.9  0.171   63      0\n",
              "765     5  121.0  72.0  23.0  112.0  26.2  0.245   30      0\n",
              "\n",
              "[392 rows x 9 columns]"
            ]
          },
          "execution_count": 15,
          "metadata": {},
          "output_type": "execute_result"
        }
      ],
      "source": [
        "df"
      ]
    },
    {
      "cell_type": "code",
      "execution_count": null,
      "metadata": {
        "colab": {
          "base_uri": "https://localhost:8080/"
        },
        "id": "4b6eFrWtJPdd",
        "outputId": "5db79609-7d6e-4221-e7cd-7849c539b836"
      },
      "outputs": [
        {
          "data": {
            "text/plain": [
              "NEMB      1.000\n",
              "GLU      89.000\n",
              "PART     66.000\n",
              "GROS     23.000\n",
              "HUR      94.000\n",
              "BMI      28.100\n",
              "FPRED     0.167\n",
              "AGE      21.000\n",
              "CLASS     0.000\n",
              "Name: 3, dtype: float64"
            ]
          },
          "execution_count": 16,
          "metadata": {},
          "output_type": "execute_result"
        }
      ],
      "source": [
        "df.loc[3]"
      ]
    },
    {
      "cell_type": "code",
      "execution_count": null,
      "metadata": {
        "colab": {
          "base_uri": "https://localhost:8080/",
          "height": 424
        },
        "id": "gzzkyU0oLv-9",
        "outputId": "a1d43330-493f-4d48-a3a9-462ca0e43121"
      },
      "outputs": [
        {
          "data": {
            "text/html": [
              "<div>\n",
              "<style scoped>\n",
              "    .dataframe tbody tr th:only-of-type {\n",
              "        vertical-align: middle;\n",
              "    }\n",
              "\n",
              "    .dataframe tbody tr th {\n",
              "        vertical-align: top;\n",
              "    }\n",
              "\n",
              "    .dataframe thead th {\n",
              "        text-align: right;\n",
              "    }\n",
              "</style>\n",
              "<table border=\"1\" class=\"dataframe\">\n",
              "  <thead>\n",
              "    <tr style=\"text-align: right;\">\n",
              "      <th></th>\n",
              "      <th>NEMB</th>\n",
              "      <th>GLU</th>\n",
              "      <th>PART</th>\n",
              "      <th>GROS</th>\n",
              "      <th>HUR</th>\n",
              "      <th>BMI</th>\n",
              "      <th>FPRED</th>\n",
              "      <th>AGE</th>\n",
              "      <th>CLASS</th>\n",
              "    </tr>\n",
              "  </thead>\n",
              "  <tbody>\n",
              "    <tr>\n",
              "      <th>0</th>\n",
              "      <td>1</td>\n",
              "      <td>89.0</td>\n",
              "      <td>66.0</td>\n",
              "      <td>23.0</td>\n",
              "      <td>94.0</td>\n",
              "      <td>28.1</td>\n",
              "      <td>0.167</td>\n",
              "      <td>21</td>\n",
              "      <td>0</td>\n",
              "    </tr>\n",
              "    <tr>\n",
              "      <th>1</th>\n",
              "      <td>0</td>\n",
              "      <td>137.0</td>\n",
              "      <td>40.0</td>\n",
              "      <td>35.0</td>\n",
              "      <td>168.0</td>\n",
              "      <td>43.1</td>\n",
              "      <td>2.288</td>\n",
              "      <td>33</td>\n",
              "      <td>1</td>\n",
              "    </tr>\n",
              "    <tr>\n",
              "      <th>2</th>\n",
              "      <td>3</td>\n",
              "      <td>78.0</td>\n",
              "      <td>50.0</td>\n",
              "      <td>32.0</td>\n",
              "      <td>88.0</td>\n",
              "      <td>31.0</td>\n",
              "      <td>0.248</td>\n",
              "      <td>26</td>\n",
              "      <td>1</td>\n",
              "    </tr>\n",
              "    <tr>\n",
              "      <th>3</th>\n",
              "      <td>2</td>\n",
              "      <td>197.0</td>\n",
              "      <td>70.0</td>\n",
              "      <td>45.0</td>\n",
              "      <td>543.0</td>\n",
              "      <td>30.5</td>\n",
              "      <td>0.158</td>\n",
              "      <td>53</td>\n",
              "      <td>1</td>\n",
              "    </tr>\n",
              "    <tr>\n",
              "      <th>4</th>\n",
              "      <td>1</td>\n",
              "      <td>189.0</td>\n",
              "      <td>60.0</td>\n",
              "      <td>23.0</td>\n",
              "      <td>846.0</td>\n",
              "      <td>30.1</td>\n",
              "      <td>0.398</td>\n",
              "      <td>59</td>\n",
              "      <td>1</td>\n",
              "    </tr>\n",
              "    <tr>\n",
              "      <th>...</th>\n",
              "      <td>...</td>\n",
              "      <td>...</td>\n",
              "      <td>...</td>\n",
              "      <td>...</td>\n",
              "      <td>...</td>\n",
              "      <td>...</td>\n",
              "      <td>...</td>\n",
              "      <td>...</td>\n",
              "      <td>...</td>\n",
              "    </tr>\n",
              "    <tr>\n",
              "      <th>387</th>\n",
              "      <td>0</td>\n",
              "      <td>181.0</td>\n",
              "      <td>88.0</td>\n",
              "      <td>44.0</td>\n",
              "      <td>510.0</td>\n",
              "      <td>43.3</td>\n",
              "      <td>0.222</td>\n",
              "      <td>26</td>\n",
              "      <td>1</td>\n",
              "    </tr>\n",
              "    <tr>\n",
              "      <th>388</th>\n",
              "      <td>1</td>\n",
              "      <td>128.0</td>\n",
              "      <td>88.0</td>\n",
              "      <td>39.0</td>\n",
              "      <td>110.0</td>\n",
              "      <td>36.5</td>\n",
              "      <td>1.057</td>\n",
              "      <td>37</td>\n",
              "      <td>1</td>\n",
              "    </tr>\n",
              "    <tr>\n",
              "      <th>389</th>\n",
              "      <td>2</td>\n",
              "      <td>88.0</td>\n",
              "      <td>58.0</td>\n",
              "      <td>26.0</td>\n",
              "      <td>16.0</td>\n",
              "      <td>28.4</td>\n",
              "      <td>0.766</td>\n",
              "      <td>22</td>\n",
              "      <td>0</td>\n",
              "    </tr>\n",
              "    <tr>\n",
              "      <th>390</th>\n",
              "      <td>10</td>\n",
              "      <td>101.0</td>\n",
              "      <td>76.0</td>\n",
              "      <td>48.0</td>\n",
              "      <td>180.0</td>\n",
              "      <td>32.9</td>\n",
              "      <td>0.171</td>\n",
              "      <td>63</td>\n",
              "      <td>0</td>\n",
              "    </tr>\n",
              "    <tr>\n",
              "      <th>391</th>\n",
              "      <td>5</td>\n",
              "      <td>121.0</td>\n",
              "      <td>72.0</td>\n",
              "      <td>23.0</td>\n",
              "      <td>112.0</td>\n",
              "      <td>26.2</td>\n",
              "      <td>0.245</td>\n",
              "      <td>30</td>\n",
              "      <td>0</td>\n",
              "    </tr>\n",
              "  </tbody>\n",
              "</table>\n",
              "<p>392 rows × 9 columns</p>\n",
              "</div>"
            ],
            "text/plain": [
              "     NEMB    GLU  PART  GROS    HUR   BMI  FPRED  AGE  CLASS\n",
              "0       1   89.0  66.0  23.0   94.0  28.1  0.167   21      0\n",
              "1       0  137.0  40.0  35.0  168.0  43.1  2.288   33      1\n",
              "2       3   78.0  50.0  32.0   88.0  31.0  0.248   26      1\n",
              "3       2  197.0  70.0  45.0  543.0  30.5  0.158   53      1\n",
              "4       1  189.0  60.0  23.0  846.0  30.1  0.398   59      1\n",
              "..    ...    ...   ...   ...    ...   ...    ...  ...    ...\n",
              "387     0  181.0  88.0  44.0  510.0  43.3  0.222   26      1\n",
              "388     1  128.0  88.0  39.0  110.0  36.5  1.057   37      1\n",
              "389     2   88.0  58.0  26.0   16.0  28.4  0.766   22      0\n",
              "390    10  101.0  76.0  48.0  180.0  32.9  0.171   63      0\n",
              "391     5  121.0  72.0  23.0  112.0  26.2  0.245   30      0\n",
              "\n",
              "[392 rows x 9 columns]"
            ]
          },
          "execution_count": 17,
          "metadata": {},
          "output_type": "execute_result"
        }
      ],
      "source": [
        "# Reindexar el DataFrame con el índice predeterminado\n",
        "df_reindexado = df.reset_index(drop=True)\n",
        "\n",
        "# Mostrar el DataFrame reindexado\n",
        "df_reindexado"
      ]
    },
    {
      "cell_type": "markdown",
      "metadata": {
        "id": "DGN02smmEhAa"
      },
      "source": [
        "$$\\color{red}{\\text{OJO!! Remover las filas solo porque tengan nulos no es la mejor forma de trabajar}}$$"
      ]
    },
    {
      "cell_type": "markdown",
      "metadata": {
        "id": "DUXGkbGhpruZ"
      },
      "source": [
        "## Opcion 2: Imputar los faltantes\n",
        "\n",
        "Para esto tenemos varias opciones\n",
        "1. Introducir un valor constante para los nulos o una categoria llamada Desconocido en variables categoricas\n",
        "2. Reemplazar por un valor seleccionado al azar de los otros registros\n",
        "3. Usar la media, mediana o moda para rellenar el valor\n",
        "4. Valor estimado usando un modelo de ML"
      ]
    },
    {
      "cell_type": "code",
      "execution_count": null,
      "metadata": {
        "colab": {
          "base_uri": "https://localhost:8080/"
        },
        "id": "qhmXNNdDn7f9",
        "outputId": "b1f32817-dc0c-4200-acc1-52db84111226"
      },
      "outputs": [
        {
          "name": "stdout",
          "output_type": "stream",
          "text": [
            "(768, 9)\n",
            "(768, 9)\n"
          ]
        }
      ],
      "source": [
        "url='https://raw.githubusercontent.com/jbrownlee/Datasets/master/pima-indians-diabetes.csv'\n",
        "df= pd.read_csv(url,sep=',', header=None)\n",
        "print(df.shape)\n",
        "df=df.replace(0, np.nan)\n",
        "print(df.shape)"
      ]
    },
    {
      "cell_type": "code",
      "execution_count": null,
      "metadata": {
        "colab": {
          "base_uri": "https://localhost:8080/"
        },
        "id": "JynMQ1kt3PMb",
        "outputId": "2a489cf4-d706-412a-96e1-968a40c092a5"
      },
      "outputs": [
        {
          "name": "stdout",
          "output_type": "stream",
          "text": [
            "     0      1     2     3      4     5      6   7    8\n",
            "0  6.0  148.0  72.0  35.0    NaN  33.6  0.627  50  1.0\n",
            "1  1.0   85.0  66.0  29.0    NaN  26.6  0.351  31  NaN\n",
            "2  8.0  183.0  64.0   NaN    NaN  23.3  0.672  32  1.0\n",
            "3  1.0   89.0  66.0  23.0   94.0  28.1  0.167  21  NaN\n",
            "4  NaN  137.0  40.0  35.0  168.0  43.1  2.288  33  1.0\n"
          ]
        }
      ],
      "source": [
        "print(df.head())"
      ]
    },
    {
      "cell_type": "code",
      "execution_count": null,
      "metadata": {
        "colab": {
          "base_uri": "https://localhost:8080/"
        },
        "id": "E0q_bhGrFFtq",
        "outputId": "170d5c2b-da15-4aef-b252-f590712a3502"
      },
      "outputs": [
        {
          "name": "stdout",
          "output_type": "stream",
          "text": [
            "(768, 9)\n",
            "      0      1     2      3       4     5     6   7    8\n",
            "0  6.00  148.0  72.0  35.00  155.55  33.6  0.63  50  1.0\n",
            "1  1.00   85.0  66.0  29.00  155.55  26.6  0.35  31  1.0\n",
            "2  8.00  183.0  64.0  29.15  155.55  23.3  0.67  32  1.0\n",
            "3  1.00   89.0  66.0  23.00   94.00  28.1  0.17  21  1.0\n",
            "4  4.49  137.0  40.0  35.00  168.00  43.1  2.29  33  1.0\n"
          ]
        }
      ],
      "source": [
        "# reemplazar con la media\n",
        "df.fillna(df.mean(), inplace=True)\n",
        "print(df.shape)\n",
        "print(df.head().round(2))"
      ]
    },
    {
      "cell_type": "markdown",
      "metadata": {
        "id": "aFCxnJXG3isA"
      },
      "source": [
        "La librería ```scikit-learn``` proporciona la clase de preprocesamiento ```SimpleImputer``` que se puede usar para reemplazar los valores perdidos.\n",
        "\n",
        "Es una clase flexible que le permite especificar el valor a reemplazar (puede ser algo diferente a NaN) y la técnica utilizada para reemplazarlo (como media, mediana o moda). La clase ```SimpleImputer``` opera directamente en la matriz NumPy en lugar del DataFrame.\n",
        "\n",
        "El siguiente ejemplo usa la clase SimpleImputer para reemplazar los valores faltantes con la media de cada columna y luego imprime el número de valores de NaN en la matriz transformada."
      ]
    },
    {
      "cell_type": "code",
      "execution_count": null,
      "metadata": {
        "colab": {
          "base_uri": "https://localhost:8080/"
        },
        "id": "85eqySTD3NkW",
        "outputId": "4e6d2ed3-b7ce-435d-901d-59d2de04b9e9"
      },
      "outputs": [
        {
          "name": "stdout",
          "output_type": "stream",
          "text": [
            "(768, 9)\n",
            "     0      1     2     3      4     5      6   7    8\n",
            "0  6.0  148.0  72.0  35.0    NaN  33.6  0.627  50  1.0\n",
            "1  1.0   85.0  66.0  29.0    NaN  26.6  0.351  31  NaN\n",
            "2  8.0  183.0  64.0   NaN    NaN  23.3  0.672  32  1.0\n",
            "3  1.0   89.0  66.0  23.0   94.0  28.1  0.167  21  NaN\n",
            "4  NaN  137.0  40.0  35.0  168.0  43.1  2.288  33  1.0\n"
          ]
        }
      ],
      "source": [
        "from numpy import nan\n",
        "from numpy import isnan\n",
        "from pandas import read_csv\n",
        "from sklearn.impute import SimpleImputer\n",
        "url='https://raw.githubusercontent.com/jbrownlee/Datasets/master/pima-indians-diabetes.csv'\n",
        "df= pd.read_csv(url,sep=',', header=None)\n",
        "df=df.replace(0, np.nan)\n",
        "print(df.shape)\n",
        "print(df.head())"
      ]
    },
    {
      "cell_type": "code",
      "execution_count": null,
      "metadata": {
        "colab": {
          "base_uri": "https://localhost:8080/"
        },
        "id": "_kkpod56GlQv",
        "outputId": "bfa54c5a-288f-428f-af69-15e8bb7b4aad"
      },
      "outputs": [
        {
          "name": "stdout",
          "output_type": "stream",
          "text": [
            "Missing:  0\n"
          ]
        }
      ],
      "source": [
        "# Crear un numpy array con los valores\n",
        "valores = df.values\n",
        "# definir el imputador\n",
        "imputador = SimpleImputer(missing_values=np.nan, strategy='mean')\n",
        "# transformar el dataset\n",
        "transformados = imputador.fit_transform(valores)\n",
        "# Contar el numero de NaN en cada columna\n",
        "print('Missing: ', isnan(transformados).sum())\n"
      ]
    },
    {
      "cell_type": "code",
      "execution_count": null,
      "metadata": {
        "colab": {
          "base_uri": "https://localhost:8080/"
        },
        "id": "t0GScRO6Pmhc",
        "outputId": "7b65d471-f5aa-4439-bcd0-4d1b4bb32af0"
      },
      "outputs": [
        {
          "name": "stdout",
          "output_type": "stream",
          "text": [
            "      0      1     2      3       4     5     6     7    8\n",
            "0  6.00  148.0  72.0  35.00  155.55  33.6  0.63  50.0  1.0\n",
            "1  1.00   85.0  66.0  29.00  155.55  26.6  0.35  31.0  1.0\n",
            "2  8.00  183.0  64.0  29.15  155.55  23.3  0.67  32.0  1.0\n",
            "3  1.00   89.0  66.0  23.00   94.00  28.1  0.17  21.0  1.0\n",
            "4  4.49  137.0  40.0  35.00  168.00  43.1  2.29  33.0  1.0\n"
          ]
        }
      ],
      "source": [
        "transformados=pd.DataFrame(transformados)\n",
        "#transformados= transformados.rename(columns={0: \"NEMB\", 1: \"GLU\", 2: \"PART\",3:\"GROS\",4:\"HUR\",5:\"BMI\",6:\"FPRED\",7:\"AGE\",8:\"CLASS\"})\n",
        "print(transformados.head().round(2))"
      ]
    },
    {
      "cell_type": "code",
      "execution_count": null,
      "metadata": {
        "colab": {
          "base_uri": "https://localhost:8080/"
        },
        "id": "ORJolUtmPr9C",
        "outputId": "9eb9d38b-f4f8-4d3f-a439-3202cdefacb5"
      },
      "outputs": [
        {
          "name": "stdout",
          "output_type": "stream",
          "text": [
            "Missing:  0\n"
          ]
        }
      ],
      "source": [
        "imputador = SimpleImputer(missing_values=-999, strategy='mean')\n",
        "# transformar el dataset\n",
        "transformados = imputador.fit_transform(transformados)\n",
        "# Contar el numero de NaN en cada columna\n",
        "print('Missing: ', isnan(transformados).sum())"
      ]
    },
    {
      "cell_type": "code",
      "execution_count": null,
      "metadata": {
        "colab": {
          "base_uri": "https://localhost:8080/"
        },
        "id": "dNDl_0wFPUux",
        "outputId": "f81dce56-3841-4b57-eef0-7fb8271695e1"
      },
      "outputs": [
        {
          "name": "stdout",
          "output_type": "stream",
          "text": [
            "      0      1     2      3       4     5     6     7    8\n",
            "0  6.00  148.0  72.0  35.00  155.55  33.6  0.63  50.0  1.0\n",
            "1  1.00   85.0  66.0  29.00  155.55  26.6  0.35  31.0  1.0\n",
            "2  8.00  183.0  64.0  29.15  155.55  23.3  0.67  32.0  1.0\n",
            "3  1.00   89.0  66.0  23.00   94.00  28.1  0.17  21.0  1.0\n",
            "4  4.49  137.0  40.0  35.00  168.00  43.1  2.29  33.0  1.0\n"
          ]
        }
      ],
      "source": [
        "transformados=pd.DataFrame(transformados)\n",
        "#transformados= transformados.rename(columns={0: \"NEMB\", 1: \"GLU\", 2: \"PART\",3:\"GROS\",4:\"HUR\",5:\"BMI\",6:\"FPRED\",7:\"AGE\",8:\"CLASS\"})\n",
        "print(transformados.head().round(2))"
      ]
    },
    {
      "cell_type": "code",
      "execution_count": null,
      "metadata": {
        "colab": {
          "base_uri": "https://localhost:8080/"
        },
        "id": "e7PSDkmpIC64",
        "outputId": "4534ca7d-6871-4988-9cae-12239ad335f4"
      },
      "outputs": [
        {
          "name": "stdout",
          "output_type": "stream",
          "text": [
            "Missing: 0\n",
            "     0      1     2     3      4     5     6     7    8\n",
            "0  6.0  148.0  72.0  35.0  125.0  33.6  0.63  50.0  1.0\n",
            "1  1.0   85.0  66.0  29.0  125.0  26.6  0.35  31.0  1.0\n",
            "2  8.0  183.0  64.0  29.0  125.0  23.3  0.67  32.0  1.0\n",
            "3  1.0   89.0  66.0  23.0   94.0  28.1  0.17  21.0  1.0\n",
            "4  4.0  137.0  40.0  35.0  168.0  43.1  2.29  33.0  1.0\n"
          ]
        }
      ],
      "source": [
        "# Crear un numpy array con los valores\n",
        "valores = df.values\n",
        "# definir el imputador\n",
        "imputador = SimpleImputer(missing_values=np.nan, strategy='median')\n",
        "# trabsformar el dataset\n",
        "transformados = imputador.fit_transform(valores)\n",
        "# Contar el numero de NaN en cada columna\n",
        "print('Missing: %d' % isnan(transformados).sum())\n",
        "transformados=pd.DataFrame(transformados)\n",
        "#transformados= transformados.rename(columns={0: \"NEMB\", 1: \"GLU\", 2: \"PART\",3:\"GROS\",4:\"HUR\",5:\"BMI\",6:\"FPRED\",7:\"AGE\",8:\"CLASS\"})\n",
        "print(transformados.head().round(2))"
      ]
    },
    {
      "cell_type": "code",
      "execution_count": null,
      "metadata": {
        "colab": {
          "base_uri": "https://localhost:8080/"
        },
        "id": "2OV-_wh1IZIO",
        "outputId": "281e2ed5-56e9-4887-d779-139fd86adb63"
      },
      "outputs": [
        {
          "name": "stdout",
          "output_type": "stream",
          "text": [
            "Missing: 0\n",
            "     0      1     2     3      4     5     6     7    8\n",
            "0  6.0  148.0  72.0  35.0  105.0  33.6  0.63  50.0  1.0\n",
            "1  1.0   85.0  66.0  29.0  105.0  26.6  0.35  31.0  1.0\n",
            "2  8.0  183.0  64.0  32.0  105.0  23.3  0.67  32.0  1.0\n",
            "3  1.0   89.0  66.0  23.0   94.0  28.1  0.17  21.0  1.0\n",
            "4  1.0  137.0  40.0  35.0  168.0  43.1  2.29  33.0  1.0\n"
          ]
        }
      ],
      "source": [
        "# Crear un numpy array con los valores\n",
        "valores = df.values\n",
        "# definir el imputador\n",
        "imputador = SimpleImputer(missing_values=np.nan, strategy='most_frequent')\n",
        "# trabsformar el dataset\n",
        "transformados = imputador.fit_transform(valores)\n",
        "# Contar el numero de NaN en cada columna\n",
        "print('Missing: %d' % isnan(transformados).sum())\n",
        "transformados=pd.DataFrame(transformados)\n",
        "#transformados= transformados.rename(columns={0: \"NEMB\", 1: \"GLU\", 2: \"PART\",3:\"GROS\",4:\"HUR\",5:\"BMI\",6:\"FPRED\",7:\"AGE\",8:\"CLASS\"})\n",
        "print(transformados.head().round(2))"
      ]
    },
    {
      "cell_type": "code",
      "execution_count": null,
      "metadata": {
        "colab": {
          "base_uri": "https://localhost:8080/"
        },
        "id": "PiLul2D0nFpH",
        "outputId": "db682af4-374e-4f84-c449-639419704836"
      },
      "outputs": [
        {
          "name": "stdout",
          "output_type": "stream",
          "text": [
            "Missing: 0\n",
            "      0      1     2     3      4     5     6     7     8\n",
            "0   6.0  148.0  72.0  35.0   10.0  33.6  0.63  50.0   1.0\n",
            "1   1.0   85.0  66.0  29.0   10.0  26.6  0.35  31.0  10.0\n",
            "2   8.0  183.0  64.0  10.0   10.0  23.3  0.67  32.0   1.0\n",
            "3   1.0   89.0  66.0  23.0   94.0  28.1  0.17  21.0  10.0\n",
            "4  10.0  137.0  40.0  35.0  168.0  43.1  2.29  33.0   1.0\n"
          ]
        }
      ],
      "source": [
        "# Crear un numpy array con los valores\n",
        "valores = df.values\n",
        "# definir el imputador\n",
        "imputador = SimpleImputer(missing_values=np.nan, strategy='constant',fill_value=10)\n",
        "# trabsformar el dataset\n",
        "transformados = imputador.fit_transform(valores)\n",
        "# Contar el numero de NaN en cada columna\n",
        "print('Missing: %d' % isnan(transformados).sum())\n",
        "transformados=pd.DataFrame(transformados)\n",
        "#transformados= transformados.rename(columns={0: \"NEMB\", 1: \"GLU\", 2: \"PART\",3:\"GROS\",4:\"HUR\",5:\"BMI\",6:\"FPRED\",7:\"AGE\",8:\"CLASS\"})\n",
        "print(transformados.head().round(2))"
      ]
    },
    {
      "cell_type": "code",
      "execution_count": null,
      "metadata": {
        "id": "SYlFfcqH4u91",
        "outputId": "66cb950b-3894-496c-9662-5c0b3651e39b"
      },
      "outputs": [
        {
          "name": "stdout",
          "output_type": "stream",
          "text": [
            "\u001b[1;31mInit signature:\u001b[0m\n",
            "\u001b[0mSimpleImputer\u001b[0m\u001b[1;33m(\u001b[0m\u001b[1;33m\n",
            "\u001b[0m    \u001b[1;33m*\u001b[0m\u001b[1;33m,\u001b[0m\u001b[1;33m\n",
            "\u001b[0m    \u001b[0mmissing_values\u001b[0m\u001b[1;33m=\u001b[0m\u001b[0mnan\u001b[0m\u001b[1;33m,\u001b[0m\u001b[1;33m\n",
            "\u001b[0m    \u001b[0mstrategy\u001b[0m\u001b[1;33m=\u001b[0m\u001b[1;34m'mean'\u001b[0m\u001b[1;33m,\u001b[0m\u001b[1;33m\n",
            "\u001b[0m    \u001b[0mfill_value\u001b[0m\u001b[1;33m=\u001b[0m\u001b[1;32mNone\u001b[0m\u001b[1;33m,\u001b[0m\u001b[1;33m\n",
            "\u001b[0m    \u001b[0mcopy\u001b[0m\u001b[1;33m=\u001b[0m\u001b[1;32mTrue\u001b[0m\u001b[1;33m,\u001b[0m\u001b[1;33m\n",
            "\u001b[0m    \u001b[0madd_indicator\u001b[0m\u001b[1;33m=\u001b[0m\u001b[1;32mFalse\u001b[0m\u001b[1;33m,\u001b[0m\u001b[1;33m\n",
            "\u001b[0m    \u001b[0mkeep_empty_features\u001b[0m\u001b[1;33m=\u001b[0m\u001b[1;32mFalse\u001b[0m\u001b[1;33m,\u001b[0m\u001b[1;33m\n",
            "\u001b[0m\u001b[1;33m)\u001b[0m\u001b[1;33m\u001b[0m\u001b[1;33m\u001b[0m\u001b[0m\n",
            "\u001b[1;31mDocstring:\u001b[0m     \n",
            "Univariate imputer for completing missing values with simple strategies.\n",
            "\n",
            "Replace missing values using a descriptive statistic (e.g. mean, median, or\n",
            "most frequent) along each column, or using a constant value.\n",
            "\n",
            "Read more in the :ref:`User Guide <impute>`.\n",
            "\n",
            ".. versionadded:: 0.20\n",
            "   `SimpleImputer` replaces the previous `sklearn.preprocessing.Imputer`\n",
            "   estimator which is now removed.\n",
            "\n",
            "Parameters\n",
            "----------\n",
            "missing_values : int, float, str, np.nan, None or pandas.NA, default=np.nan\n",
            "    The placeholder for the missing values. All occurrences of\n",
            "    `missing_values` will be imputed. For pandas' dataframes with\n",
            "    nullable integer dtypes with missing values, `missing_values`\n",
            "    can be set to either `np.nan` or `pd.NA`.\n",
            "\n",
            "strategy : str, default='mean'\n",
            "    The imputation strategy.\n",
            "\n",
            "    - If \"mean\", then replace missing values using the mean along\n",
            "      each column. Can only be used with numeric data.\n",
            "    - If \"median\", then replace missing values using the median along\n",
            "      each column. Can only be used with numeric data.\n",
            "    - If \"most_frequent\", then replace missing using the most frequent\n",
            "      value along each column. Can be used with strings or numeric data.\n",
            "      If there is more than one such value, only the smallest is returned.\n",
            "    - If \"constant\", then replace missing values with fill_value. Can be\n",
            "      used with strings or numeric data.\n",
            "\n",
            "    .. versionadded:: 0.20\n",
            "       strategy=\"constant\" for fixed value imputation.\n",
            "\n",
            "fill_value : str or numerical value, default=None\n",
            "    When strategy == \"constant\", `fill_value` is used to replace all\n",
            "    occurrences of missing_values. For string or object data types,\n",
            "    `fill_value` must be a string.\n",
            "    If `None`, `fill_value` will be 0 when imputing numerical\n",
            "    data and \"missing_value\" for strings or object data types.\n",
            "\n",
            "copy : bool, default=True\n",
            "    If True, a copy of X will be created. If False, imputation will\n",
            "    be done in-place whenever possible. Note that, in the following cases,\n",
            "    a new copy will always be made, even if `copy=False`:\n",
            "\n",
            "    - If `X` is not an array of floating values;\n",
            "    - If `X` is encoded as a CSR matrix;\n",
            "    - If `add_indicator=True`.\n",
            "\n",
            "add_indicator : bool, default=False\n",
            "    If True, a :class:`MissingIndicator` transform will stack onto output\n",
            "    of the imputer's transform. This allows a predictive estimator\n",
            "    to account for missingness despite imputation. If a feature has no\n",
            "    missing values at fit/train time, the feature won't appear on\n",
            "    the missing indicator even if there are missing values at\n",
            "    transform/test time.\n",
            "\n",
            "keep_empty_features : bool, default=False\n",
            "    If True, features that consist exclusively of missing values when\n",
            "    `fit` is called are returned in results when `transform` is called.\n",
            "    The imputed value is always `0` except when `strategy=\"constant\"`\n",
            "    in which case `fill_value` will be used instead.\n",
            "\n",
            "    .. versionadded:: 1.2\n",
            "\n",
            "Attributes\n",
            "----------\n",
            "statistics_ : array of shape (n_features,)\n",
            "    The imputation fill value for each feature.\n",
            "    Computing statistics can result in `np.nan` values.\n",
            "    During :meth:`transform`, features corresponding to `np.nan`\n",
            "    statistics will be discarded.\n",
            "\n",
            "indicator_ : :class:`~sklearn.impute.MissingIndicator`\n",
            "    Indicator used to add binary indicators for missing values.\n",
            "    `None` if `add_indicator=False`.\n",
            "\n",
            "n_features_in_ : int\n",
            "    Number of features seen during :term:`fit`.\n",
            "\n",
            "    .. versionadded:: 0.24\n",
            "\n",
            "feature_names_in_ : ndarray of shape (`n_features_in_`,)\n",
            "    Names of features seen during :term:`fit`. Defined only when `X`\n",
            "    has feature names that are all strings.\n",
            "\n",
            "    .. versionadded:: 1.0\n",
            "\n",
            "See Also\n",
            "--------\n",
            "IterativeImputer : Multivariate imputer that estimates values to impute for\n",
            "    each feature with missing values from all the others.\n",
            "KNNImputer : Multivariate imputer that estimates missing features using\n",
            "    nearest samples.\n",
            "\n",
            "Notes\n",
            "-----\n",
            "Columns which only contained missing values at :meth:`fit` are discarded\n",
            "upon :meth:`transform` if strategy is not `\"constant\"`.\n",
            "\n",
            "In a prediction context, simple imputation usually performs poorly when\n",
            "associated with a weak learner. However, with a powerful learner, it can\n",
            "lead to as good or better performance than complex imputation such as\n",
            ":class:`~sklearn.impute.IterativeImputer` or :class:`~sklearn.impute.KNNImputer`.\n",
            "\n",
            "Examples\n",
            "--------\n",
            ">>> import numpy as np\n",
            ">>> from sklearn.impute import SimpleImputer\n",
            ">>> imp_mean = SimpleImputer(missing_values=np.nan, strategy='mean')\n",
            ">>> imp_mean.fit([[7, 2, 3], [4, np.nan, 6], [10, 5, 9]])\n",
            "SimpleImputer()\n",
            ">>> X = [[np.nan, 2, 3], [4, np.nan, 6], [10, np.nan, 9]]\n",
            ">>> print(imp_mean.transform(X))\n",
            "[[ 7.   2.   3. ]\n",
            " [ 4.   3.5  6. ]\n",
            " [10.   3.5  9. ]]\n",
            "\u001b[1;31mFile:\u001b[0m           c:\\users\\jorge\\anaconda3\\lib\\site-packages\\sklearn\\impute\\_base.py\n",
            "\u001b[1;31mType:\u001b[0m           type\n",
            "\u001b[1;31mSubclasses:\u001b[0m     \n"
          ]
        }
      ],
      "source": [
        "# Para obtener ayuda sobre la clase\n",
        "SimpleImputer?"
      ]
    },
    {
      "cell_type": "markdown",
      "metadata": {
        "id": "Rc_0LIUi4sEy"
      },
      "source": [
        "El parametro ```strategy``` puede tomar valores de ```['mean','median','most_frequent','constant']``` si se usa ``constant``` se debe proporcionar el argumento ```fill_value````con el valor a reemplazar"
      ]
    }
  ],
  "metadata": {
    "colab": {
      "provenance": [],
      "include_colab_link": true
    },
    "kernelspec": {
      "display_name": "Python 3.9.12 ('base')",
      "language": "python",
      "name": "python3"
    },
    "language_info": {
      "codemirror_mode": {
        "name": "ipython",
        "version": 3
      },
      "file_extension": ".py",
      "mimetype": "text/x-python",
      "name": "python",
      "nbconvert_exporter": "python",
      "pygments_lexer": "ipython3",
      "version": "3.9.12"
    },
    "vscode": {
      "interpreter": {
        "hash": "9412b45e6a57aa9914730508726d49801d3b2c579f461e1fb13c705887a7b1f6"
      }
    }
  },
  "nbformat": 4,
  "nbformat_minor": 0
}